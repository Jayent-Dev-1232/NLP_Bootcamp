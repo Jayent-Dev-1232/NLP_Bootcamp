{
 "cells": [
  {
   "cell_type": "markdown",
   "id": "f1e66a47",
   "metadata": {},
   "source": [
    "# ***Natural Language Processing Assignment-2 Solution***"
   ]
  },
  {
   "cell_type": "markdown",
   "id": "d2529cd9",
   "metadata": {},
   "source": [
    "## ***Basic Level***"
   ]
  },
  {
   "cell_type": "markdown",
   "id": "e485c844",
   "metadata": {},
   "source": [
    "##### ***Step-1: Importing necessary libraries***"
   ]
  },
  {
   "cell_type": "code",
   "execution_count": 2,
   "id": "9766de79",
   "metadata": {},
   "outputs": [],
   "source": [
    "import pandas as pd\n",
    "import matplotlib.pyplot as plt\n",
    "import nltk\n",
    "from nltk.tokenize import word_tokenize\n",
    "from nltk.stem import PorterStemmer\n",
    "from sklearn.model_selection import train_test_split\n",
    "import torch.nn as nn\n",
    "import torch.nn.functional as F\n",
    "import torch.optim as optim\n",
    "import torch\n",
    "from gensim import corpora\n",
    "from sklearn.metrics import classification_report"
   ]
  },
  {
   "cell_type": "markdown",
   "id": "bfa82cd2",
   "metadata": {},
   "source": [
    "##### ***Step-2: Loading yelp review dataset***"
   ]
  },
  {
   "cell_type": "code",
   "execution_count": 3,
   "id": "790d6a75",
   "metadata": {},
   "outputs": [
    {
     "data": {
      "text/html": [
       "<div>\n",
       "<style scoped>\n",
       "    .dataframe tbody tr th:only-of-type {\n",
       "        vertical-align: middle;\n",
       "    }\n",
       "\n",
       "    .dataframe tbody tr th {\n",
       "        vertical-align: top;\n",
       "    }\n",
       "\n",
       "    .dataframe thead th {\n",
       "        text-align: right;\n",
       "    }\n",
       "</style>\n",
       "<table border=\"1\" class=\"dataframe\">\n",
       "  <thead>\n",
       "    <tr style=\"text-align: right;\">\n",
       "      <th></th>\n",
       "      <th>Unnamed: 0</th>\n",
       "      <th>Text</th>\n",
       "      <th>Labels</th>\n",
       "    </tr>\n",
       "  </thead>\n",
       "  <tbody>\n",
       "    <tr>\n",
       "      <th>0</th>\n",
       "      <td>0</td>\n",
       "      <td>My expectations for McDonalds are t rarely hig...</td>\n",
       "      <td>0</td>\n",
       "    </tr>\n",
       "    <tr>\n",
       "      <th>1</th>\n",
       "      <td>1</td>\n",
       "      <td>I've tried to give this McDonalds a chance but...</td>\n",
       "      <td>0</td>\n",
       "    </tr>\n",
       "    <tr>\n",
       "      <th>2</th>\n",
       "      <td>2</td>\n",
       "      <td>This McDonald's is so bad it's amazing.  \\n\\nO...</td>\n",
       "      <td>0</td>\n",
       "    </tr>\n",
       "    <tr>\n",
       "      <th>3</th>\n",
       "      <td>3</td>\n",
       "      <td>We had the worst possible experience at the Ea...</td>\n",
       "      <td>0</td>\n",
       "    </tr>\n",
       "    <tr>\n",
       "      <th>4</th>\n",
       "      <td>4</td>\n",
       "      <td>They burned my fish and they burned it bad.  O...</td>\n",
       "      <td>2</td>\n",
       "    </tr>\n",
       "    <tr>\n",
       "      <th>...</th>\n",
       "      <td>...</td>\n",
       "      <td>...</td>\n",
       "      <td>...</td>\n",
       "    </tr>\n",
       "    <tr>\n",
       "      <th>495</th>\n",
       "      <td>495</td>\n",
       "      <td>This place is PHENOMENAL.\\nI got my bunny here...</td>\n",
       "      <td>4</td>\n",
       "    </tr>\n",
       "    <tr>\n",
       "      <th>496</th>\n",
       "      <td>496</td>\n",
       "      <td>This is a bizarre CVS, the kind you would only...</td>\n",
       "      <td>1</td>\n",
       "    </tr>\n",
       "    <tr>\n",
       "      <th>497</th>\n",
       "      <td>497</td>\n",
       "      <td>I go to this CVS all the time, since I work in...</td>\n",
       "      <td>1</td>\n",
       "    </tr>\n",
       "    <tr>\n",
       "      <th>498</th>\n",
       "      <td>498</td>\n",
       "      <td>Never again. Let me repeat, never again. \\n\\nT...</td>\n",
       "      <td>0</td>\n",
       "    </tr>\n",
       "    <tr>\n",
       "      <th>499</th>\n",
       "      <td>499</td>\n",
       "      <td>The times I've been here, its been an OK exper...</td>\n",
       "      <td>1</td>\n",
       "    </tr>\n",
       "  </tbody>\n",
       "</table>\n",
       "<p>500 rows × 3 columns</p>\n",
       "</div>"
      ],
      "text/plain": [
       "     Unnamed: 0                                               Text  Labels\n",
       "0             0  My expectations for McDonalds are t rarely hig...       0\n",
       "1             1  I've tried to give this McDonalds a chance but...       0\n",
       "2             2  This McDonald's is so bad it's amazing.  \\n\\nO...       0\n",
       "3             3  We had the worst possible experience at the Ea...       0\n",
       "4             4  They burned my fish and they burned it bad.  O...       2\n",
       "..          ...                                                ...     ...\n",
       "495         495  This place is PHENOMENAL.\\nI got my bunny here...       4\n",
       "496         496  This is a bizarre CVS, the kind you would only...       1\n",
       "497         497  I go to this CVS all the time, since I work in...       1\n",
       "498         498  Never again. Let me repeat, never again. \\n\\nT...       0\n",
       "499         499  The times I've been here, its been an OK exper...       1\n",
       "\n",
       "[500 rows x 3 columns]"
      ]
     },
     "execution_count": 3,
     "metadata": {},
     "output_type": "execute_result"
    }
   ],
   "source": [
    "df = pd.read_csv('yelp_reviews_subset_2.csv')\n",
    "df"
   ]
  },
  {
   "cell_type": "markdown",
   "id": "bf842d57",
   "metadata": {},
   "source": [
    "##### ***Step-3: Making the sentiment column***"
   ]
  },
  {
   "cell_type": "code",
   "execution_count": 4,
   "id": "d0d398b3",
   "metadata": {},
   "outputs": [
    {
     "name": "stderr",
     "output_type": "stream",
     "text": [
      "C:\\Users\\JAYENT DEV\\AppData\\Local\\Temp\\ipykernel_3476\\586133965.py:14: FutureWarning: pandas.value_counts is deprecated and will be removed in a future version. Use pd.Series(obj).value_counts() instead.\n",
      "  pd.value_counts(df['sentiment']).plot.bar(title=\"Sentiment distribution in df\")\n"
     ]
    },
    {
     "data": {
      "image/png": "[encoded data removed]",
      "text/plain": [
       "<Figure size 640x480 with 1 Axes>"
      ]
     },
     "metadata": {},
     "output_type": "display_data"
    }
   ],
   "source": [
    "def map_sentiment(stars_received):\n",
    "    if stars_received <= 2:\n",
    "        return -1\n",
    "    elif stars_received == 3:\n",
    "        return 0\n",
    "    else:\n",
    "        return 1\n",
    "\n",
    "\n",
    "# Mapping stars to sentiment into three categories\n",
    "df['sentiment'] = [ map_sentiment(x) for x in df['Labels']]\n",
    "# Plotting the sentiment distribution\n",
    "plt.figure()\n",
    "pd.value_counts(df['sentiment']).plot.bar(title=\"Sentiment distribution in df\")\n",
    "plt.xlabel(\"Sentiment\")\n",
    "plt.ylabel(\"No. of rows in df\")\n",
    "plt.show()"
   ]
  },
  {
   "cell_type": "markdown",
   "id": "c01dfd43",
   "metadata": {},
   "source": [
    "##### ***Step-4: Tokenizing the text and stemming the word using NLTK tools***"
   ]
  },
  {
   "cell_type": "code",
   "execution_count": 5,
   "id": "72111095",
   "metadata": {},
   "outputs": [
    {
     "name": "stdout",
     "output_type": "stream",
     "text": [
      "0    [My, expectations, for, McDonalds, are, t, rar...\n",
      "1    [I, 've, tried, to, give, this, McDonalds, a, ...\n",
      "2    [This, McDonald, 's, is, so, bad, it, 's, amaz...\n",
      "3    [We, had, the, worst, possible, experience, at...\n",
      "4    [They, burned, my, fish, and, they, burned, it...\n",
      "5    [Some, how, even, though, the, food, at, this,...\n",
      "6    [Mmm, ..., peppermint, mocha\\n\\nIn, my, quest,...\n",
      "7    [If, there, was, ever, a, \\, '', get, your, co...\n",
      "8    [I, just, realized, they, remodeled, this, one...\n",
      "9    [Great, location, !, Close, to, shops, and, th...\n",
      "Name: tokenized_text, dtype: object\n"
     ]
    },
    {
     "data": {
      "text/plain": [
       "0    [my, expect, for, mcdonald, are, t, rare, high...\n",
       "1    [i, 've, tri, to, give, thi, mcdonald, a, chan...\n",
       "2    [thi, mcdonald, 's, is, so, bad, it, 's, amaz,...\n",
       "3    [we, had, the, worst, possibl, experi, at, the...\n",
       "4    [they, burn, my, fish, and, they, burn, it, ba...\n",
       "5    [some, how, even, though, the, food, at, thi, ...\n",
       "6    [mmm, ..., peppermint, mocha\\n\\nin, my, quest,...\n",
       "7    [if, there, wa, ever, a, \\, '', get, your, cof...\n",
       "8    [i, just, realiz, they, remodel, thi, one, rec...\n",
       "9    [great, locat, !, close, to, shop, and, theatr...\n",
       "Name: stemmed_tokens, dtype: object"
      ]
     },
     "execution_count": 5,
     "metadata": {},
     "output_type": "execute_result"
    }
   ],
   "source": [
    "df['tokenized_text'] = [word_tokenize(text) for text in df['Text']]\n",
    "print(df['tokenized_text'].head(10))\n",
    "\n",
    "ps = PorterStemmer()\n",
    "df['stemmed_tokens'] = [[ps.stem(word) for word in tokens] for tokens in df['tokenized_text']]\n",
    "\n",
    "df['stemmed_tokens'].head(10)"
   ]
  },
  {
   "cell_type": "markdown",
   "id": "4541fbbe",
   "metadata": {},
   "source": [
    "##### ***Step-5: Test_Train_Split using scikit-learn module***"
   ]
  },
  {
   "cell_type": "code",
   "execution_count": 6,
   "id": "676ed457",
   "metadata": {},
   "outputs": [
    {
     "name": "stdout",
     "output_type": "stream",
     "text": [
      "Value counts for Train sentiments\n",
      "sentiment\n",
      "-1    255\n",
      " 1     49\n",
      " 0     46\n",
      "Name: count, dtype: int64\n",
      "Value counts for Test sentiments\n",
      "sentiment\n",
      "-1    108\n",
      " 1     21\n",
      " 0     21\n",
      "Name: count, dtype: int64\n",
      "<class 'pandas.core.frame.DataFrame'>\n",
      "<class 'pandas.core.series.Series'>\n",
      "   index                                               Text  Labels  \\\n",
      "0    139  The food is standard American fare--a bit over...       1   \n",
      "1    129  I'm not much of a beer drinker, but my fiancee...       3   \n",
      "2    258  ok so i've eaten here more than once but just ...       1   \n",
      "3    227  Food was ok had a steak w/ shrimp side Ass mas...       1   \n",
      "4     60  He was incredibly sexist/homophobic. He could ...       0   \n",
      "\n",
      "                                      tokenized_text  \\\n",
      "0  [The, food, is, standard, American, fare, --, ...   \n",
      "1  [I, 'm, not, much, of, a, beer, drinker, ,, bu...   \n",
      "2  [ok, so, i, 've, eaten, here, more, than, once...   \n",
      "3  [Food, was, ok, had, a, steak, w/, shrimp, sid...   \n",
      "4  [He, was, incredibly, sexist/homophobic, ., He...   \n",
      "\n",
      "                                      stemmed_tokens  \n",
      "0  [the, food, is, standard, american, fare, --, ...  \n",
      "1  [i, 'm, not, much, of, a, beer, drinker, ,, bu...  \n",
      "2  [ok, so, i, 've, eaten, here, more, than, onc,...  \n",
      "3  [food, wa, ok, had, a, steak, w/, shrimp, side...  \n",
      "4  [he, wa, incred, sexist/homophob, ., he, could...  \n"
     ]
    }
   ],
   "source": [
    "# Train Test Split Function\n",
    "def split_train_test(df, test_size=0.3, shuffle_state=True):\n",
    "    X_train, X_test, Y_train, Y_test = train_test_split(df[[\"Text\", \"Labels\", \"tokenized_text\", \"stemmed_tokens\"]], df['sentiment'], shuffle=shuffle_state, test_size=test_size, random_state=15)\n",
    "    print(\"Value counts for Train sentiments\")\n",
    "    print(Y_train.value_counts())\n",
    "    print(\"Value counts for Test sentiments\")\n",
    "    print(Y_test.value_counts())\n",
    "    print(type(X_train))\n",
    "    print(type(Y_train))\n",
    "    X_train = X_train.reset_index()\n",
    "    X_test = X_test.reset_index()\n",
    "    Y_train = Y_train.to_frame()\n",
    "    Y_train = Y_train.reset_index()\n",
    "    Y_test = Y_test.to_frame()\n",
    "    Y_test = Y_test.reset_index()\n",
    "    print(X_train.head())\n",
    "    return X_train, X_test, Y_train, Y_test\n",
    "\n",
    "# Call the train_test_split\n",
    "X_train, X_test, Y_train, Y_test = split_train_test(df)"
   ]
  },
  {
   "cell_type": "markdown",
   "id": "9362922a",
   "metadata": {},
   "source": [
    "##### ***Step-6: Setting up the device either GPU or CPU***"
   ]
  },
  {
   "cell_type": "code",
   "execution_count": 10,
   "id": "fce8ba72",
   "metadata": {},
   "outputs": [
    {
     "name": "stdout",
     "output_type": "stream",
     "text": [
      "Device available for running:  cuda\n"
     ]
    }
   ],
   "source": [
    "device = torch.device(\"cuda\" if torch.cuda.is_available() else \"cpu\")\n",
    "print(\"Device available for running: \", device)"
   ]
  },
  {
   "cell_type": "markdown",
   "id": "852832d4",
   "metadata": {},
   "source": [
    "##### ***Step-7: Writing FeedForwardNeuralNetModel funcion code***"
   ]
  },
  {
   "cell_type": "code",
   "execution_count": 11,
   "id": "62d46f43",
   "metadata": {},
   "outputs": [],
   "source": [
    "class FeedforwardNeuralNetModel(nn.Module):\n",
    "    def __init__(self, input_dim, hidden_dim, output_dim):\n",
    "        super(FeedforwardNeuralNetModel, self).__init__()\n",
    "        self.fc1 = nn.Linear(input_dim, hidden_dim)\n",
    "        self.relu1 = nn.ReLU()\n",
    "        self.fc2 = nn.Linear(hidden_dim, hidden_dim)\n",
    "        self.relu2 = nn.ReLU()\n",
    "        self.fc3 = nn.Linear(hidden_dim, output_dim)\n",
    "\n",
    "    def forward(self, x):\n",
    "        out = self.fc1(x)\n",
    "        out = self.relu1(out)\n",
    "        out = self.fc2(out)\n",
    "        out = self.relu2(out)\n",
    "        out = self.fc3(out)\n",
    "        return F.softmax(out, dim=1)"
   ]
  },
  {
   "cell_type": "markdown",
   "id": "1c282389",
   "metadata": {},
   "source": [
    "##### ***Step-8: Making dictionary of tokens with and without padding***"
   ]
  },
  {
   "cell_type": "code",
   "execution_count": 12,
   "id": "f8345f34",
   "metadata": {},
   "outputs": [
    {
     "name": "stdout",
     "output_type": "stream",
     "text": [
      "Dictionary without padding\n"
     ]
    }
   ],
   "source": [
    "# Function to return the dictionary either with padding word or without padding\n",
    "def make_dict(top_data_df_small, padding=True):\n",
    "    if padding:\n",
    "        print(\"Dictionary with padded token added\")\n",
    "        review_dict = corpora.Dictionary([['pad']])\n",
    "        review_dict.add_documents(top_data_df_small['stemmed_tokens'])\n",
    "    else:\n",
    "        print(\"Dictionary without padding\")\n",
    "        review_dict = corpora.Dictionary(top_data_df_small['stemmed_tokens'])\n",
    "    return review_dict\n",
    "\n",
    "# Make the dictionary without padding for the basic models\n",
    "review_dict = make_dict(df, padding=False)"
   ]
  },
  {
   "cell_type": "markdown",
   "id": "b0dd5da4",
   "metadata": {},
   "source": [
    "##### ***Step-9: Creating bag of words vector from tokenized words and sentiment label tensor output***"
   ]
  },
  {
   "cell_type": "code",
   "execution_count": 13,
   "id": "72a0d31e",
   "metadata": {},
   "outputs": [],
   "source": [
    "VOCAB_SIZE = 30056\n",
    "NUM_LABELS = 3\n",
    "\n",
    "# Function to make bow vector to be used as input to network\n",
    "def make_bow_vector(review_dict, sentence):\n",
    "    vec = torch.zeros(VOCAB_SIZE, dtype=torch.float64, device=device)\n",
    "    for word in sentence:\n",
    "        vec[review_dict.token2id[word]] += 1\n",
    "    return vec.view(1, -1).float()\n",
    "\n",
    "# Function to get the output tensor\n",
    "def make_target(label):\n",
    "    if label == -1:\n",
    "        return torch.tensor([0], dtype=torch.long, device=device)\n",
    "    elif label == 0:\n",
    "        return torch.tensor([1], dtype=torch.long, device=device)\n",
    "    else:\n",
    "        return torch.tensor([2], dtype=torch.long, device=device)"
   ]
  },
  {
   "cell_type": "markdown",
   "id": "d65c3d65",
   "metadata": {},
   "source": [
    "##### ***Step-10***"
   ]
  },
  {
   "cell_type": "code",
   "execution_count": 14,
   "id": "35ad8870",
   "metadata": {},
   "outputs": [],
   "source": [
    "VOCAB_SIZE = len(review_dict)\n",
    "\n",
    "input_dim = VOCAB_SIZE\n",
    "hidden_dim = 500\n",
    "output_dim = 3\n",
    "num_epochs = 100\n",
    "\n",
    "ff_nn_bow_model = FeedforwardNeuralNetModel(input_dim, hidden_dim, output_dim)\n",
    "ff_nn_bow_model = ff_nn_bow_model.to(device)\n",
    "loss_function = nn.CrossEntropyLoss()\n",
    "optimizer = optim.SGD(ff_nn_bow_model.parameters(), lr=1e-3)"
   ]
  },
  {
   "cell_type": "markdown",
   "id": "1900cddc",
   "metadata": {},
   "source": [
    "##### ***Step-11***"
   ]
  },
  {
   "cell_type": "code",
   "execution_count": 15,
   "id": "c82a8f8e",
   "metadata": {},
   "outputs": [
    {
     "name": "stdout",
     "output_type": "stream",
     "text": [
      "Epoch completed: 25\n",
      "Epoch completed: 50\n",
      "Epoch completed: 75\n",
      "Epoch completed: 100\n"
     ]
    }
   ],
   "source": [
    "# Open the file for writing loss\n",
    "ffnn_loss_file_name = 'ffnn_bow_class_big_loss_500_epoch_100_less_lr.csv'\n",
    "f = open(ffnn_loss_file_name,'w')\n",
    "f.write('iter, loss')\n",
    "f.write('\\n')\n",
    "losses = []\n",
    "iter = 0\n",
    "# Start training\n",
    "for epoch in range(num_epochs):\n",
    "    if (epoch+1) % 25 == 0:\n",
    "        print(\"Epoch completed: \" + str(epoch+1))\n",
    "    train_loss = 0\n",
    "    for index, row in X_train.iterrows():\n",
    "        # Clearing the accumulated gradients\n",
    "        optimizer.zero_grad()\n",
    "        \n",
    "        bow_vec = make_bow_vector(review_dict, row['stemmed_tokens'])\n",
    "        probs = ff_nn_bow_model(bow_vec)\n",
    "\n",
    "        # Get the target label\n",
    "        target = make_target(Y_train['sentiment'][index])\n",
    "        loss = loss_function(probs, target)\n",
    "\n",
    "        # Accumulating the loss over time\n",
    "        train_loss += loss.item()\n",
    "\n",
    "        # Getting gradients w.r.t. parameters\n",
    "        loss.backward()\n",
    "\n",
    "        # Updating parameters\n",
    "        optimizer.step()\n",
    "    f.write(str((epoch+1)) + \",\" + str(train_loss / len(X_train)))\n",
    "    f.write('\\n')\n",
    "    train_loss = 0\n",
    "\n",
    "f.close()"
   ]
  },
  {
   "cell_type": "markdown",
   "id": "9429586e",
   "metadata": {},
   "source": [
    "##### ***Step-12***"
   ]
  },
  {
   "cell_type": "code",
   "execution_count": 16,
   "id": "8e5946e9",
   "metadata": {},
   "outputs": [
    {
     "name": "stdout",
     "output_type": "stream",
     "text": [
      "              precision    recall  f1-score   support\n",
      "\n",
      "           0       0.72      1.00      0.84       108\n",
      "           1       0.00      0.00      0.00        21\n",
      "           2       0.00      0.00      0.00        21\n",
      "\n",
      "    accuracy                           0.72       150\n",
      "   macro avg       0.24      0.33      0.28       150\n",
      "weighted avg       0.52      0.72      0.60       150\n",
      "\n",
      "100\n",
      "Index(['iter', ' loss'], dtype='object')\n"
     ]
    },
    {
     "name": "stderr",
     "output_type": "stream",
     "text": [
      "e:\\Python 3.11.9\\Lib\\site-packages\\sklearn\\metrics\\_classification.py:1471: UndefinedMetricWarning: Precision and F-score are ill-defined and being set to 0.0 in labels with no predicted samples. Use `zero_division` parameter to control this behavior.\n",
      "  _warn_prf(average, modifier, msg_start, len(result))\n",
      "e:\\Python 3.11.9\\Lib\\site-packages\\sklearn\\metrics\\_classification.py:1471: UndefinedMetricWarning: Precision and F-score are ill-defined and being set to 0.0 in labels with no predicted samples. Use `zero_division` parameter to control this behavior.\n",
      "  _warn_prf(average, modifier, msg_start, len(result))\n",
      "e:\\Python 3.11.9\\Lib\\site-packages\\sklearn\\metrics\\_classification.py:1471: UndefinedMetricWarning: Precision and F-score are ill-defined and being set to 0.0 in labels with no predicted samples. Use `zero_division` parameter to control this behavior.\n",
      "  _warn_prf(average, modifier, msg_start, len(result))\n"
     ]
    },
    {
     "data": {
      "image/png": "[encoded data removed]",
      "text/plain": [
       "<Figure size 640x480 with 1 Axes>"
      ]
     },
     "metadata": {},
     "output_type": "display_data"
    }
   ],
   "source": [
    "bow_ff_nn_predictions = []\n",
    "original_lables_ff_bow = []\n",
    "\n",
    "with torch.no_grad():\n",
    "    for index, row in X_test.iterrows():\n",
    "        bow_vec = make_bow_vector(review_dict, row['stemmed_tokens'])\n",
    "        probs = ff_nn_bow_model(bow_vec)\n",
    "        bow_ff_nn_predictions.append(torch.argmax(probs, dim=1).cpu().numpy()[0])\n",
    "        original_lables_ff_bow.append(make_target(Y_test['sentiment'][index]).cpu().numpy()[0])\n",
    "\n",
    "print(classification_report(original_lables_ff_bow,bow_ff_nn_predictions))\n",
    "ffnn_loss_df = pd.read_csv(ffnn_loss_file_name)\n",
    "print(len(ffnn_loss_df))\n",
    "print(ffnn_loss_df.columns)\n",
    "ffnn_plt_500_padding_100_epochs = ffnn_loss_df[' loss'].plot()\n",
    "fig = ffnn_plt_500_padding_100_epochs.get_figure()\n",
    "fig.savefig(\"ffnn_bow_loss_500_padding_100_epochs_less_lr.jpg\")"
   ]
  },
  {
   "cell_type": "markdown",
   "id": "501bae74",
   "metadata": {},
   "source": [
    "## ***Advance Level***"
   ]
  },
  {
   "cell_type": "markdown",
   "id": "274c44f3",
   "metadata": {},
   "source": [
    "##### ***Step-13: Train the FeedForward Neural Network Model with dropout with regularization***"
   ]
  },
  {
   "cell_type": "code",
   "execution_count": 21,
   "id": "385dd066",
   "metadata": {},
   "outputs": [
    {
     "name": "stdout",
     "output_type": "stream",
     "text": [
      "Epoch completed: 25\n",
      "Epoch completed: 50\n",
      "Epoch completed: 75\n",
      "Epoch completed: 100\n"
     ]
    }
   ],
   "source": [
    "# Initializing the Feedforward Neural Network model with Dropout\n",
    "class FeedforwardNeuralNetModel_Dropout(nn.Module):\n",
    "    def __init__(self, input_dim, hidden_dim, output_dim, dropout_rate=0.3):\n",
    "        super(FeedforwardNeuralNetModel_Dropout, self).__init__()\n",
    "\n",
    "        self.fc1 = nn.Linear(input_dim, hidden_dim)\n",
    "        self.relu1 = nn.ReLU()\n",
    "        self.dropout1 = nn.Dropout(dropout_rate)\n",
    "\n",
    "        self.fc2 = nn.Linear(hidden_dim, hidden_dim)\n",
    "        self.relu2 = nn.ReLU()\n",
    "        self.dropout2 = nn.Dropout(dropout_rate)\n",
    "\n",
    "        self.fc3 = nn.Linear(hidden_dim, output_dim)\n",
    "\n",
    "    def forward(self, x):\n",
    "        out = self.fc1(x)\n",
    "        out = self.relu1(out)\n",
    "        out = self.dropout1(out)\n",
    "\n",
    "        out = self.fc2(out)\n",
    "        out = self.relu2(out)\n",
    "        out = self.dropout2(out)\n",
    "\n",
    "        out = self.fc3(out)\n",
    "        return F.softmax(out, dim=1)\n",
    "\n",
    "# Training the Feedforward Neural Network Model with Dropout\n",
    "ff_nn_bow_model_dropout = FeedforwardNeuralNetModel_Dropout(input_dim, hidden_dim, output_dim, dropout_rate=0.3)\n",
    "ff_nn_bow_model_dropout.to(device)\n",
    "\n",
    "loss_function_dropout = nn.CrossEntropyLoss()\n",
    "optimizer_dropout = torch.optim.SGD(ff_nn_bow_model_dropout.parameters(), lr=1e-3)\n",
    "\n",
    "ffnn_loss_file_name_dropout = 'ffnn_bow_class_big_loss_500_epoch_100_less_lr_dropout.csv'\n",
    "f_dropout = open(ffnn_loss_file_name_dropout, 'w')\n",
    "f_dropout.write('iter, loss\\n')\n",
    "losses_dropout = []\n",
    "iter_dropout = 0\n",
    "\n",
    "# Train the model\n",
    "ff_nn_bow_model_dropout.train()\n",
    "for epoch in range(num_epochs):\n",
    "    if (epoch + 1) % 25 == 0:\n",
    "        print(f\"Epoch completed: {epoch + 1}\")\n",
    "\n",
    "    train_loss_dropout = 0\n",
    "\n",
    "    for index, row in X_train.iterrows():\n",
    "        optimizer_dropout.zero_grad()\n",
    "\n",
    "        bow_vec = make_bow_vector(review_dict, row['stemmed_tokens'])\n",
    "        probs = ff_nn_bow_model_dropout(bow_vec)\n",
    "        target = make_target(Y_train['sentiment'][index])\n",
    "\n",
    "        loss = loss_function_dropout(probs, target)\n",
    "        train_loss_dropout += loss.item()\n",
    "\n",
    "        # Backward pass and optimization\n",
    "        loss.backward()\n",
    "        optimizer_dropout.step()\n",
    "\n",
    "    # Log average loss for the epoch\n",
    "    f_dropout.write(f\"{epoch + 1},{train_loss_dropout / len(X_train)}\\n\")\n",
    "    train_loss_dropout = 0\n",
    "\n",
    "f_dropout.close()"
   ]
  },
  {
   "cell_type": "markdown",
   "id": "a79365c9",
   "metadata": {},
   "source": [
    "##### ***Step-14: Evaluating the performance of the model with dropout on the test dataset***"
   ]
  },
  {
   "cell_type": "code",
   "execution_count": 22,
   "id": "4dab4f94",
   "metadata": {},
   "outputs": [
    {
     "name": "stdout",
     "output_type": "stream",
     "text": [
      "Classification Report with Dropout:\n",
      "              precision    recall  f1-score   support\n",
      "\n",
      "           0       0.72      1.00      0.84       108\n",
      "           1       0.00      0.00      0.00        21\n",
      "           2       0.00      0.00      0.00        21\n",
      "\n",
      "    accuracy                           0.72       150\n",
      "   macro avg       0.24      0.33      0.28       150\n",
      "weighted avg       0.52      0.72      0.60       150\n",
      "\n"
     ]
    },
    {
     "name": "stderr",
     "output_type": "stream",
     "text": [
      "e:\\Python 3.11.9\\Lib\\site-packages\\sklearn\\metrics\\_classification.py:1471: UndefinedMetricWarning: Precision and F-score are ill-defined and being set to 0.0 in labels with no predicted samples. Use `zero_division` parameter to control this behavior.\n",
      "  _warn_prf(average, modifier, msg_start, len(result))\n",
      "e:\\Python 3.11.9\\Lib\\site-packages\\sklearn\\metrics\\_classification.py:1471: UndefinedMetricWarning: Precision and F-score are ill-defined and being set to 0.0 in labels with no predicted samples. Use `zero_division` parameter to control this behavior.\n",
      "  _warn_prf(average, modifier, msg_start, len(result))\n",
      "e:\\Python 3.11.9\\Lib\\site-packages\\sklearn\\metrics\\_classification.py:1471: UndefinedMetricWarning: Precision and F-score are ill-defined and being set to 0.0 in labels with no predicted samples. Use `zero_division` parameter to control this behavior.\n",
      "  _warn_prf(average, modifier, msg_start, len(result))\n"
     ]
    },
    {
     "data": {
      "image/png": "[encoded data removed]",
      "text/plain": [
       "<Figure size 1000x600 with 1 Axes>"
      ]
     },
     "metadata": {},
     "output_type": "display_data"
    }
   ],
   "source": [
    "bow_ff_nn_predictions_dropout = []\n",
    "original_lables_ff_bow_dropout = []\n",
    "\n",
    "ff_nn_bow_model_dropout.eval() # Set model to evaluation mode\n",
    "with torch.no_grad():\n",
    "    for index, row in X_test.iterrows():\n",
    "        bow_vec = make_bow_vector(review_dict, row['stemmed_tokens'])\n",
    "        probs = ff_nn_bow_model_dropout(bow_vec)\n",
    "        bow_ff_nn_predictions_dropout.append(torch.argmax(probs, dim=1).cpu().numpy()[0])\n",
    "        original_lables_ff_bow_dropout.append(make_target(Y_test['sentiment'][index]).cpu().numpy()[0])\n",
    "\n",
    "print(\"Classification Report with Dropout:\")\n",
    "print(classification_report(original_lables_ff_bow_dropout, bow_ff_nn_predictions_dropout))\n",
    "\n",
    "ffnn_loss_df = pd.read_csv(ffnn_loss_file_name)\n",
    "ffnn_loss_df_dropout = pd.read_csv(ffnn_loss_file_name_dropout)\n",
    "\n",
    "plt.figure(figsize=(10, 6))\n",
    "plt.plot(ffnn_loss_df['iter'], ffnn_loss_df[' loss'], label='Without Dropout')\n",
    "plt.plot(ffnn_loss_df_dropout['iter'], ffnn_loss_df_dropout[' loss'], label='With Dropout')\n",
    "plt.xlabel('Epoch')\n",
    "plt.ylabel('Loss')\n",
    "plt.title('Training Loss with and Without Dropout')\n",
    "plt.legend()\n",
    "plt.grid(True)\n",
    "plt.savefig(\"ffnn_bow_loss_comparison_dropout.jpg\")\n",
    "plt.show()"
   ]
  }
 ],
 "metadata": {
  "kernelspec": {
   "display_name": "Python 3",
   "language": "python",
   "name": "python3"
  },
  "language_info": {
   "codemirror_mode": {
    "name": "ipython",
    "version": 3
   },
   "file_extension": ".py",
   "mimetype": "text/x-python",
   "name": "python",
   "nbconvert_exporter": "python",
   "pygments_lexer": "ipython3",
   "version": "3.11.9"
  }
 },
 "nbformat": 4,
 "nbformat_minor": 5
}
